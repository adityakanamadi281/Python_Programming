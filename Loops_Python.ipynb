{
  "nbformat": 4,
  "nbformat_minor": 0,
  "metadata": {
    "colab": {
      "provenance": []
    },
    "kernelspec": {
      "name": "python3",
      "display_name": "Python 3"
    },
    "language_info": {
      "name": "python"
    }
  },
  "cells": [
    {
      "cell_type": "markdown",
      "source": [
        "## LOOPs in Python\n"
      ],
      "metadata": {
        "id": "D9n2U4Lhy5uW"
      }
    },
    {
      "cell_type": "markdown",
      "source": [
        "for loop"
      ],
      "metadata": {
        "id": "g7XxJ2emHmDA"
      }
    },
    {
      "cell_type": "code",
      "source": [
        "#Write a program to print numbers from 1 to 100 using a loop.\n",
        "\n",
        "for i in range(1,101):\n",
        "  print(i)"
      ],
      "metadata": {
        "colab": {
          "base_uri": "https://localhost:8080/"
        },
        "id": "Mox3Qur5y-cT",
        "outputId": "1d060028-8439-4aeb-f339-0bee3906e03f"
      },
      "execution_count": 2,
      "outputs": [
        {
          "output_type": "stream",
          "name": "stdout",
          "text": [
            "1\n",
            "2\n",
            "3\n",
            "4\n",
            "5\n",
            "6\n",
            "7\n",
            "8\n",
            "9\n",
            "10\n",
            "11\n",
            "12\n",
            "13\n",
            "14\n",
            "15\n",
            "16\n",
            "17\n",
            "18\n",
            "19\n",
            "20\n",
            "21\n",
            "22\n",
            "23\n",
            "24\n",
            "25\n",
            "26\n",
            "27\n",
            "28\n",
            "29\n",
            "30\n",
            "31\n",
            "32\n",
            "33\n",
            "34\n",
            "35\n",
            "36\n",
            "37\n",
            "38\n",
            "39\n",
            "40\n",
            "41\n",
            "42\n",
            "43\n",
            "44\n",
            "45\n",
            "46\n",
            "47\n",
            "48\n",
            "49\n",
            "50\n",
            "51\n",
            "52\n",
            "53\n",
            "54\n",
            "55\n",
            "56\n",
            "57\n",
            "58\n",
            "59\n",
            "60\n",
            "61\n",
            "62\n",
            "63\n",
            "64\n",
            "65\n",
            "66\n",
            "67\n",
            "68\n",
            "69\n",
            "70\n",
            "71\n",
            "72\n",
            "73\n",
            "74\n",
            "75\n",
            "76\n",
            "77\n",
            "78\n",
            "79\n",
            "80\n",
            "81\n",
            "82\n",
            "83\n",
            "84\n",
            "85\n",
            "86\n",
            "87\n",
            "88\n",
            "89\n",
            "90\n",
            "91\n",
            "92\n",
            "93\n",
            "94\n",
            "95\n",
            "96\n",
            "97\n",
            "98\n",
            "99\n",
            "100\n"
          ]
        }
      ]
    },
    {
      "cell_type": "code",
      "source": [
        "# Write a program to print the multiplication table of a given number.\n",
        "num = int(input(\"Enter a number: \"))\n",
        "\n",
        "print(f\"\\nMultiplication Table of {num}:\")\n",
        "for i in range(1, 11):\n",
        "    print(f\"{num} x {i} = {num * i}\")"
      ],
      "metadata": {
        "colab": {
          "base_uri": "https://localhost:8080/"
        },
        "id": "fUe5V0GqzQyn",
        "outputId": "cb443b1e-a770-4ef7-c282-0592a2e3dcfd"
      },
      "execution_count": 7,
      "outputs": [
        {
          "output_type": "stream",
          "name": "stdout",
          "text": [
            "Enter a number: 5\n",
            "\n",
            "Multiplication Table of 5:\n",
            "5 x 1 = 5\n",
            "5 x 2 = 10\n",
            "5 x 3 = 15\n",
            "5 x 4 = 20\n",
            "5 x 5 = 25\n",
            "5 x 6 = 30\n",
            "5 x 7 = 35\n",
            "5 x 8 = 40\n",
            "5 x 9 = 45\n",
            "5 x 10 = 50\n"
          ]
        }
      ]
    },
    {
      "cell_type": "code",
      "source": [
        "# Write a program to find the sum of the first n natural numbers.\n",
        "n=int(input(\"Enter a number: \"))\n",
        "total=0\n",
        "\n",
        "for i in range(1, n+1):\n",
        "  total += i\n",
        "  print(f\"Sum of first {n} natural numbers={total}\")"
      ],
      "metadata": {
        "colab": {
          "base_uri": "https://localhost:8080/"
        },
        "id": "zNpf3WCn0Wry",
        "outputId": "f57f93bc-00dc-4ee0-a6e0-bfa165989459"
      },
      "execution_count": 11,
      "outputs": [
        {
          "output_type": "stream",
          "name": "stdout",
          "text": [
            "Enter a number: 9\n",
            "Sum of first 9 natural numbers=1\n",
            "Sum of first 9 natural numbers=3\n",
            "Sum of first 9 natural numbers=6\n",
            "Sum of first 9 natural numbers=10\n",
            "Sum of first 9 natural numbers=15\n",
            "Sum of first 9 natural numbers=21\n",
            "Sum of first 9 natural numbers=28\n",
            "Sum of first 9 natural numbers=36\n",
            "Sum of first 9 natural numbers=45\n"
          ]
        }
      ]
    },
    {
      "cell_type": "code",
      "source": [
        "# Write a program to find the factorial of a number using a loop.\n",
        "num = int(input(\"Enter a number: \"))\n",
        "factorial=1\n",
        "\n",
        "if num<0:\n",
        "  print(\"factorial number does not exist for negative numbers\")\n",
        "elif num==0:\n",
        "  print(\"factorial number of 0 is 1\")\n",
        "else:\n",
        "  for i in range(1,num+1):\n",
        "    factorial *= i\n",
        "\n",
        "print(f\"factorial number of {num}= {factorial}\")"
      ],
      "metadata": {
        "colab": {
          "base_uri": "https://localhost:8080/"
        },
        "id": "392Xm7PG1x47",
        "outputId": "38cd63e5-d605-476d-ad51-72e2a4ff0879"
      },
      "execution_count": 12,
      "outputs": [
        {
          "output_type": "stream",
          "name": "stdout",
          "text": [
            "Enter a number: 5\n",
            "factorial number of 5= 120\n"
          ]
        }
      ]
    },
    {
      "cell_type": "code",
      "source": [
        "colors = [\"red\",\"Yellow\",\"Orange\",\"Blue\"]\n",
        "\n",
        "for color in colors:\n",
        "  print(color)"
      ],
      "metadata": {
        "colab": {
          "base_uri": "https://localhost:8080/"
        },
        "id": "Yl9ic8iO3ehk",
        "outputId": "3c270d4d-46db-45ec-af1b-a356d031f562"
      },
      "execution_count": 13,
      "outputs": [
        {
          "output_type": "stream",
          "name": "stdout",
          "text": [
            "red\n",
            "Yellow\n",
            "Orange\n",
            "Blue\n"
          ]
        }
      ]
    },
    {
      "cell_type": "code",
      "source": [
        "colors = [\"red\",\"Yellow\",\"Orange\",\"Blue\"]\n",
        "\n",
        "for color in colors:\n",
        "  print(color)\n",
        "  for i in color:\n",
        "    print(i)"
      ],
      "metadata": {
        "colab": {
          "base_uri": "https://localhost:8080/"
        },
        "id": "PHje6M3uHRCA",
        "outputId": "97663c59-d92a-495f-eff7-28d138f96f92"
      },
      "execution_count": 14,
      "outputs": [
        {
          "output_type": "stream",
          "name": "stdout",
          "text": [
            "red\n",
            "r\n",
            "e\n",
            "d\n",
            "Yellow\n",
            "Y\n",
            "e\n",
            "l\n",
            "l\n",
            "o\n",
            "w\n",
            "Orange\n",
            "O\n",
            "r\n",
            "a\n",
            "n\n",
            "g\n",
            "e\n",
            "Blue\n",
            "B\n",
            "l\n",
            "u\n",
            "e\n"
          ]
        }
      ]
    },
    {
      "cell_type": "code",
      "source": [
        "n = int(input(\"Enter number of terms: \"))\n",
        "\n",
        "a, b = 0, 1\n",
        "\n",
        "if n <= 0:\n",
        "    print(\"Please enter a positive integer\")\n",
        "elif n == 1:\n",
        "    print(\"Fibonacci series:\", a)\n",
        "else:\n",
        "    print(\"Fibonacci series:\", end=\" \")\n",
        "    for i in range(n):\n",
        "        print(a, end=\" \")\n",
        "        a, b = b, a + b"
      ],
      "metadata": {
        "colab": {
          "base_uri": "https://localhost:8080/"
        },
        "id": "G5-B1wHAHZWT",
        "outputId": "2b2606f6-273d-44f8-ecb6-b032e773c9d8"
      },
      "execution_count": 1,
      "outputs": [
        {
          "output_type": "stream",
          "name": "stdout",
          "text": [
            "Enter number of terms: 5\n",
            "Fibonacci series: 0 1 1 2 3 "
          ]
        }
      ]
    },
    {
      "cell_type": "code",
      "source": [
        "n=int(input(\"Enter number of terms: \"))\n",
        "\n",
        "a,b=0,1\n",
        "\n",
        "if n<0:\n",
        "  print(\"Please Enter a positive number\")\n",
        "elif n==1:\n",
        "  print(\"Fibonacci series:\",a)\n",
        "else:\n",
        "  print(\"Fibonacci series:\",end=\"\")\n",
        "  for i in range(n):\n",
        "    print(a,end=\"\")\n",
        "    a,b=b, a+b"
      ],
      "metadata": {
        "colab": {
          "base_uri": "https://localhost:8080/"
        },
        "id": "_ryTahMk2faq",
        "outputId": "9a67020d-3359-4a94-e8d4-79b3fbb29a9b"
      },
      "execution_count": 3,
      "outputs": [
        {
          "output_type": "stream",
          "name": "stdout",
          "text": [
            "Enter number of terms: 10\n",
            "Fibonacci series:0112358132134"
          ]
        }
      ]
    },
    {
      "cell_type": "code",
      "source": [
        "num=int(input(\"Enter a number: \"))\n",
        "sum_digit=0\n",
        "\n",
        "while num>0:\n",
        "  digit=num%10\n",
        "  sum_digit=sum_digit + digit\n",
        "  num//=10\n",
        "\n",
        "print(sum_digit)"
      ],
      "metadata": {
        "colab": {
          "base_uri": "https://localhost:8080/"
        },
        "id": "GROq4Ky85gJ6",
        "outputId": "5ef180e9-c454-42f7-f383-7acfbb37d241"
      },
      "execution_count": 11,
      "outputs": [
        {
          "output_type": "stream",
          "name": "stdout",
          "text": [
            "Enter a number: 56\n",
            "11\n"
          ]
        }
      ]
    }
  ]
}