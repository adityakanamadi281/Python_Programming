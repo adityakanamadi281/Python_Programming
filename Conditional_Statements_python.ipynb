{
 "cells": [
  {
   "cell_type": "markdown",
   "id": "9188ddda-d1bd-4cbc-9fc5-c0639ead1d5b",
   "metadata": {},
   "source": [
    "## Conditional statements "
   ]
  },
  {
   "cell_type": "code",
   "execution_count": 2,
   "id": "ad653b54-7202-456d-ad2a-f64cda3541e9",
   "metadata": {},
   "outputs": [],
   "source": [
    "# if , elif, else "
   ]
  },
  {
   "cell_type": "code",
   "execution_count": 120,
   "id": "c6e1e4a3-06ea-4ab5-9524-3e89e9f47868",
   "metadata": {},
   "outputs": [
    {
     "name": "stdin",
     "output_type": "stream",
     "text": [
      "Enter your number: 5\n"
     ]
    },
    {
     "name": "stdout",
     "output_type": "stream",
     "text": [
      "Number is Positive\n"
     ]
    }
   ],
   "source": [
    "# Write a Python program to check if a number is positive, negative, or zero.\n",
    "\n",
    "num = int(input(\"Enter your number:\"))\n",
    "\n",
    "if num<0:\n",
    "    print(\"Number is Negative\")\n",
    "elif num==0:\n",
    "    print(\"Number is Zero\")\n",
    "else: \n",
    "    print(\"Number is Positive\")"
   ]
  },
  {
   "cell_type": "code",
   "execution_count": 122,
   "id": "243147e0-0210-414c-8daf-7957c3edc03a",
   "metadata": {},
   "outputs": [
    {
     "name": "stdin",
     "output_type": "stream",
     "text": [
      "Enter your number: 5\n"
     ]
    },
    {
     "name": "stdout",
     "output_type": "stream",
     "text": [
      "Number is Odd\n"
     ]
    }
   ],
   "source": [
    "# Write a Python program to check if a number is even or odd.\n",
    "\n",
    "number = int(input(\"Enter your number:\"))\n",
    "\n",
    "if number%2==0:\n",
    "    print(\"Number is Even\")\n",
    "else:\n",
    "    print(\"Number is Odd\")"
   ]
  },
  {
   "cell_type": "code",
   "execution_count": 126,
   "id": "93427916-6782-443f-a59f-3201284f1fc6",
   "metadata": {},
   "outputs": [
    {
     "name": "stdin",
     "output_type": "stream",
     "text": [
      "Enter your num1: 6\n",
      "Enter your num2 5\n"
     ]
    },
    {
     "name": "stdout",
     "output_type": "stream",
     "text": [
      "Largest number is 6\n"
     ]
    }
   ],
   "source": [
    "# Write a Python program to find the largest of two numbers.\n",
    "\n",
    "num1= int(input(\"Enter your num1:\"))\n",
    "num2= int(input(\"Enter your num2\"))\n",
    "\n",
    "if num1>num2:\n",
    "    print(f\"Largest number is {num1}\")\n",
    "elif num2>num1:\n",
    "    print(f\"Largest number is {num2}\")\n",
    "else:\n",
    "    print(f\"{num1} and {num2} are equal\")"
   ]
  },
  {
   "cell_type": "code",
   "execution_count": 128,
   "id": "c58fadd9-a7c5-4696-be66-f403146124c5",
   "metadata": {},
   "outputs": [],
   "source": [
    "# Write a Python program to find the largest of three numbers.\n",
    "# num1 = int(input(\"Enter your num1:\"))\n",
    "# num2 = int(input(\"Enter your num2:\"))\n",
    "# num3 = int(input(\"Enter your num3:\"))\n",
    "\n",
    "# if (num1>num2) and (num1>num3):\n",
    "#     largest = num1\n",
    "# elif (num2>num1) and (num2>num3):\n",
    "#     largest = num2\n",
    "# else:\n",
    "#     largest = num3\n",
    "    \n",
    "# print(f\"Largest number is {largest}\")"
   ]
  },
  {
   "cell_type": "code",
   "execution_count": 130,
   "id": "f5aaa134-4fc4-48f2-8ac0-4c2ec7d7b41b",
   "metadata": {},
   "outputs": [
    {
     "name": "stdin",
     "output_type": "stream",
     "text": [
      "Enter year: 2024\n"
     ]
    },
    {
     "name": "stdout",
     "output_type": "stream",
     "text": [
      "2024 is leap year\n"
     ]
    }
   ],
   "source": [
    "# Write a Python program to check if a year is a leap year.\n",
    "\n",
    "year = int(input(\"Enter year:\"))\n",
    "\n",
    "if year%4==0:\n",
    "    print(f\"{year} is leap year\")\n",
    "elif year%100==0:\n",
    "    print(f\"{year} is not leap year\")\n",
    "elif year%400==0:\n",
    "    print(f\"{year} is leap year\")\n",
    "else:\n",
    "    print(f\"{year} is not a leap year\")\n",
    "    "
   ]
  },
  {
   "cell_type": "code",
   "execution_count": 136,
   "id": "e7dc75a1-880b-426a-b030-c8af965518ee",
   "metadata": {},
   "outputs": [
    {
     "name": "stdin",
     "output_type": "stream",
     "text": [
      "Enter your alphabet a\n"
     ]
    },
    {
     "name": "stdout",
     "output_type": "stream",
     "text": [
      "a is vowel\n"
     ]
    }
   ],
   "source": [
    "# Write a Python program to check if a character is a vowel or consonant. \n",
    "\n",
    "ch = input(\"Enter your alphabet\")\n",
    "\n",
    "if len(ch) == 1 and ch.isalpha():\n",
    "    if ch.lower() in [\"a\",\"e\",\"i\",\"o\",\"u\"]:\n",
    "        print(f\"{ch} is vowel\")\n",
    "    else:\n",
    "        print(f\"{ch} is consonant\")\n",
    "else: \n",
    "    print(\"Please Enter single alphabet charecter\")"
   ]
  },
  {
   "cell_type": "code",
   "execution_count": 138,
   "id": "0de99806-474a-4556-9f22-2eb9f6bc71c0",
   "metadata": {},
   "outputs": [
    {
     "name": "stdin",
     "output_type": "stream",
     "text": [
      "Enter your age:  15\n"
     ]
    },
    {
     "name": "stdout",
     "output_type": "stream",
     "text": [
      "15 is not eligible to vote\n"
     ]
    }
   ],
   "source": [
    "# Write a Python program to check if a person is eligible to vote (age ≥ 18).\n",
    "\n",
    "age = int(input(\"Enter your age: \"))\n",
    "\n",
    "if age>=18:\n",
    "    print(f\"{age} is eligible to vote\")\n",
    "else:\n",
    "    print(f\"{age} is not eligible to vote\")"
   ]
  },
  {
   "cell_type": "code",
   "execution_count": 140,
   "id": "f384a0f0-434f-4b42-92e2-5e7e18555055",
   "metadata": {},
   "outputs": [
    {
     "name": "stdin",
     "output_type": "stream",
     "text": [
      "Enter your number:  5\n"
     ]
    },
    {
     "name": "stdout",
     "output_type": "stream",
     "text": [
      "5 is not divisible by 3 and 5\n"
     ]
    }
   ],
   "source": [
    "#  Write a program to check if a number is divisible by 3 and 5. \n",
    "\n",
    "num = int(input(\"Enter your number: \"))\n",
    "\n",
    "if (num%3==0) and (num%5==0):\n",
    "    print(f\"{num} is divisible by 3 and 5\")\n",
    "else:\n",
    "    print(f\"{num} is not divisible by 3 and 5\")"
   ]
  },
  {
   "cell_type": "code",
   "execution_count": 142,
   "id": "e61bcdab-3433-48a0-a94f-7911bbefabf9",
   "metadata": {},
   "outputs": [
    {
     "name": "stdin",
     "output_type": "stream",
     "text": [
      "Enter your text madam\n"
     ]
    },
    {
     "name": "stdout",
     "output_type": "stream",
     "text": [
      "madam is palindrome \n"
     ]
    }
   ],
   "source": [
    "# Write a Python program to check if a given string is a palindrome.\n",
    "\n",
    "text = input(\"Enter your text\")\n",
    "cleaned_text = text.replace(\" \",\"\").lower()\n",
    "\n",
    "if cleaned_text==cleaned_text[::-1]:\n",
    "    print(f\"{text} is palindrome \")\n",
    "else: \n",
    "    print(f\"{text} is not palindrome\")"
   ]
  },
  {
   "cell_type": "code",
   "execution_count": 144,
   "id": "a89e329b-4f57-4ca3-99e2-a210650c59c2",
   "metadata": {},
   "outputs": [
    {
     "name": "stdin",
     "output_type": "stream",
     "text": [
      "Enter your marks:  50\n"
     ]
    },
    {
     "name": "stdout",
     "output_type": "stream",
     "text": [
      "50 is Fail \n"
     ]
    }
   ],
   "source": [
    "# Write a Python program to display the grade of a student based on marks: 90+ → A, 80-89 → B, 70-79 → C, 60-69 → D, Below 60 → F.\n",
    "\n",
    "marks = int(input(\"Enter your marks: \"))\n",
    "\n",
    "if marks>=90:\n",
    "    print(f\"{marks} is A grade \")\n",
    "elif marks>=80 and marks<90:\n",
    "    print(f\"{marks} is B grade \")\n",
    "elif marks>=70 and marks<80:\n",
    "    print(f\"{marks} is C grade \")\n",
    "elif marks>=60 and marks<70:\n",
    "    print(f\"{marks} is D grade \")\n",
    "else:\n",
    "    print(f\"{marks} is Fail \")"
   ]
  },
  {
   "cell_type": "code",
   "execution_count": 146,
   "id": "d6ab296a-42ad-4df4-9c5b-6ed613938106",
   "metadata": {},
   "outputs": [
    {
     "name": "stdin",
     "output_type": "stream",
     "text": [
      "Enter number1:  10\n",
      "Enter number2:  9\n",
      "Enter number3:  8\n",
      "Enter number4:  3\n"
     ]
    },
    {
     "name": "stdout",
     "output_type": "stream",
     "text": [
      " The Largest number is 10\n"
     ]
    }
   ],
   "source": [
    "# Write a program to find the largest among four numbers using nested if.\n",
    "a=int(input(\"Enter number1: \"))\n",
    "b=int(input(\"Enter number2: \"))\n",
    "c=int(input(\"Enter number3: \"))\n",
    "d=int(input(\"Enter number4: \"))\n",
    "\n",
    "if a>b:\n",
    "    if a>c:\n",
    "        if a>d:\n",
    "            largest=a\n",
    "        else:\n",
    "            largest = d\n",
    "else:\n",
    "    if b>c:\n",
    "        if b>d:\n",
    "            largest=b\n",
    "        else:\n",
    "            largest=d\n",
    "            if c>d:\n",
    "                largest=c\n",
    "            else:\n",
    "                largest=d\n",
    "\n",
    "print(f\" The Largest number is {largest}\")"
   ]
  },
  {
   "cell_type": "markdown",
   "id": "7952448a-e1a8-40f6-b563-394b672445b0",
   "metadata": {},
   "source": [
    "## Advanced Level"
   ]
  },
  {
   "cell_type": "code",
   "execution_count": 1,
   "id": "494d1430-dd6d-4802-a5b7-6736d205a59a",
   "metadata": {},
   "outputs": [],
   "source": [
    "# Write a Python program to calculate electricity bill using conditions: 1) Up to 100 units → ₹1.5/unit  2)101–200 units → ₹2/unit 3)\n",
    "# Above 200 units → ₹3/unit"
   ]
  },
  {
   "cell_type": "code",
   "execution_count": 9,
   "id": "4332f779-81c1-4057-9bd6-55fce11f6c8a",
   "metadata": {},
   "outputs": [
    {
     "name": "stdin",
     "output_type": "stream",
     "text": [
      "Enter total unit consumed : 250\n"
     ]
    },
    {
     "name": "stdout",
     "output_type": "stream",
     "text": [
      "Your total bill is 750\n"
     ]
    }
   ],
   "source": [
    "units=int(input(\"Enter total unit consumed :\"))\n",
    "bill=0\n",
    "\n",
    "if units<=100: \n",
    "    bill=units*1.5\n",
    "    \n",
    "elif units>100 and units<=200:\n",
    "    bill = units*2\n",
    "    \n",
    "else:\n",
    "    bill=units*3\n",
    "\n",
    "print(f\"Your total bill is {bill}\")"
   ]
  },
  {
   "cell_type": "code",
   "execution_count": 21,
   "id": "a3dea3c7-1dad-4075-81f1-cedddc65fa0b",
   "metadata": {},
   "outputs": [
    {
     "name": "stdin",
     "output_type": "stream",
     "text": [
      "Enter a charecter: 5\n"
     ]
    },
    {
     "name": "stdout",
     "output_type": "stream",
     "text": [
      "It is Digit\n"
     ]
    }
   ],
   "source": [
    "#  Write a program to determine the type of character entered by the user: Alphabet, Digit, or Special Character.\n",
    "\n",
    "ch = input(\"Enter a charecter:\")\n",
    "\n",
    "if ch.isalpha():\n",
    "    print(\"It is Alphabet\")\n",
    "elif ch.isdigit():\n",
    "    print(\"It is Digit\")\n",
    "else:\n",
    "    print(\"It is Special Charecter\")"
   ]
  },
  {
   "cell_type": "code",
   "execution_count": 23,
   "id": "a4861aa3-b99a-4908-b793-bfb057b7afff",
   "metadata": {},
   "outputs": [
    {
     "name": "stdout",
     "output_type": "stream",
     "text": [
      "Current balance is: Rupees 50000\n"
     ]
    },
    {
     "name": "stdin",
     "output_type": "stream",
     "text": [
      "Enter withdrawal amount: 20000\n"
     ]
    },
    {
     "name": "stdout",
     "output_type": "stream",
     "text": [
      "Withdrawal successfull! you withdrew 20000\n",
      "Remaining Balance is 30000\n"
     ]
    }
   ],
   "source": [
    "# Write a program to simulate an ATM withdrawal: check balance, check withdrawal limit, update balance.\n",
    "\n",
    "balance=50000\n",
    "withdrawal_limit=20000 \n",
    "\n",
    "print(\"Current balance is: Rupees\", balance)\n",
    "\n",
    "amount= int(input(\"Enter withdrawal amount:\"))\n",
    "\n",
    "if amount>balance:\n",
    "    print(\"Insufficiant Balance\")\n",
    "elif amount>withdrawal_limit:\n",
    "    print(f\"Withdrawal limit exceeded! (maximum per transaction is {withdrawal_limit})\")\n",
    "elif amount<=0:\n",
    "    print(\"Invalid amount\")\n",
    "else:\n",
    "    balance -= amount\n",
    "    print(f\"Withdrawal successfull! you withdrew {amount}\")\n",
    "    print(f\"Remaining Balance is {balance}\")"
   ]
  },
  {
   "cell_type": "code",
   "execution_count": null,
   "id": "34ba7235-fa72-485b-b9f7-d9ce93773c7d",
   "metadata": {},
   "outputs": [],
   "source": []
  }
 ],
 "metadata": {
  "kernelspec": {
   "display_name": "Python 3 (ipykernel)",
   "language": "python",
   "name": "python3"
  },
  "language_info": {
   "codemirror_mode": {
    "name": "ipython",
    "version": 3
   },
   "file_extension": ".py",
   "mimetype": "text/x-python",
   "name": "python",
   "nbconvert_exporter": "python",
   "pygments_lexer": "ipython3",
   "version": "3.12.3"
  }
 },
 "nbformat": 4,
 "nbformat_minor": 5
}
